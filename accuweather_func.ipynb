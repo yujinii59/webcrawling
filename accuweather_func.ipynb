{
 "cells": [
  {
   "cell_type": "markdown",
   "metadata": {
    "collapsed": true,
    "pycharm": {
     "name": "#%% md\n"
    }
   },
   "source": [
    "### AccuWeather 크롤링\n",
    "- selector 정보 바뀔 수도 있어서 주의 필요\n",
    "- url로 바로 접근할 방법 (https://www.accuweather.com/ko/kr/seoul/226081/february-weather/226081?year=2021) 형태이므로\n",
    "    - https://www.accuweather.com/ko/kr/<지역명 영어로>/<지역 코드>/<원하는 월 영어로>-weather/<지역 코드>?year=<원하는 년도>"
   ]
  },
  {
   "cell_type": "code",
   "execution_count": 10,
   "outputs": [],
   "source": [
    "import pandas as pd\n",
    "from selenium import webdriver\n",
    "import re\n",
    "import time\n",
    "\n",
    "\n",
    "def weatherfunc(area):\n",
    "    driver = webdriver.Chrome(executable_path= r'/Users/iyj/Downloads/chromedriver')\n",
    "\n",
    "    # 원하는 url로 이동\n",
    "    driver.get(\"https://www.accuweather.com/ko\")\n",
    "    time.sleep(2)\n",
    "\n",
    "    # 원하는 지역 입력\n",
    "    driver.find_element_by_css_selector(\"div.searchbar-content > form > input\").send_keys(area)\n",
    "    driver.find_element_by_css_selector(\"div.searchbar-content > svg.icon-search.search-icon\").click()\n",
    "\n",
    "    # time.sleep(3)\n",
    "    # 해당 지역 이름으로 겁색되는 첫번째 지역 선택\n",
    "    try:\n",
    "        driver.find_element_by_css_selector(\"div.page-column-1 > div.content-module > div.locations-list.content-module > a:nth-child(1)\").click()\n",
    "    except:\n",
    "        driver.refresh()\n",
    "        try:\n",
    "            driver.find_element_by_css_selector(\"div.page-column-1 > div.content-module > div.locations-list.content-module > a:nth-child(1)\").click()\n",
    "        except:  # 해당 지역이 하나면 클릭할 필요 없으므로\n",
    "            pass\n",
    "\n",
    "    # time.sleep(3)\n",
    "    # 월별 날씨 선택\n",
    "    try:\n",
    "        driver.find_element_by_css_selector(\"div.subnav-items > a[data-gaid='monthly']\").click()\n",
    "    except:\n",
    "        driver.refresh()\n",
    "        driver.find_element_by_css_selector(\"div.page-column-1 > div.content-module > div.locations-list.content-module > a:nth-child(1)\").click()\n",
    "        try:\n",
    "            driver.find_element_by_css_selector(\"div.subnav-items > a[data-gaid='monthly']\").click()\n",
    "        except:\n",
    "            driver.refresh()\n",
    "            # time.sleep(2)\n",
    "            driver.find_element_by_css_selector(\"div.subnav-items > a[data-gaid='monthly']\").click()\n",
    "    n = 0\n",
    "    wdf = pd.DataFrame({'year':[], 'month':[], 'day':[], 'weather':[], 'weather_info':[], 'high_temp':[], 'low_temp':[]})\n",
    "    while(n<4):\n",
    "\n",
    "        year = []\n",
    "        month = []\n",
    "        day = []\n",
    "        weather = []\n",
    "        weather_info = []\n",
    "        high_temp = []\n",
    "        low_temp = []\n",
    "        # time.sleep(2)\n",
    "\n",
    "        # 해당 월의 년도 추출\n",
    "        try:\n",
    "            ydata = int(''.join(re.findall(\"\\d+\",driver.find_elements_by_css_selector(\"div.monthly-dropdowns > div:nth-child(2) > div.map-dropdown-toggle > h2\")[0].text)))\n",
    "        except:\n",
    "            driver.refresh()\n",
    "            # time.sleep(2)\n",
    "            driver.find_element_by_css_selector(\"div.subnav-items > a[data-gaid='monthly']\").click()\n",
    "            ydata = int(''.join(re.findall(\"\\d+\",driver.find_elements_by_css_selector(\"div.monthly-dropdowns > div:nth-child(2) > div.map-dropdown-toggle > h2\")[0].text)))\n",
    "        # time.sleep(2)\n",
    "\n",
    "        # 해당 월 추출\n",
    "        # 영어로 되어있을 경우 아래 주석 풀고 밑의 코드 주석\n",
    "        # mdata = driver.find_elements_by_css_selector(\"div.monthly-dropdowns > div:nth-child(1) > div.map-dropdown-toggle > h2\")[0].text\n",
    "        mdata = int(''.join(re.findall(\"\\d+\",driver.find_elements_by_css_selector(\"div.monthly-dropdowns > div:nth-child(1) > div.map-dropdown-toggle > h2\")[0].text)))\n",
    "\n",
    "        # 해당 월 이미 존재하면 다음 달로 넘기도록\n",
    "        if mdata in set(wdf.month) and n < 3:\n",
    "            driver.find_element_by_css_selector(\"div.two-column-page-content > div.page-column-1 > div.content-module > div.more-cta-links > a.cta-link\").click()\n",
    "            continue\n",
    "\n",
    "        # 지난 날짜 제외 해당 월의 첫 날부터 마지막 날까지 dataset\n",
    "        month_data = driver.find_elements_by_css_selector(\"a.monthly-daypanel:not(.is-past)\")\n",
    "        for i in range(len(month_data)):\n",
    "            ddata = int(month_data[i].find_element_by_css_selector(\"div.date\").text)\n",
    "            if ddata == 1 and len(month_data) >= 28 and len(day) < 7: # 해당 월의 시작 일이면 초기화\n",
    "                year = []\n",
    "                month = []\n",
    "                day = []\n",
    "                weather = []\n",
    "                weather_info = []\n",
    "                high_temp = []\n",
    "                low_temp = []\n",
    "            if (i > 0 and len(day) > 0) and  ddata < day[-1]: # 다음 월의 데이터 제외하기 위해\n",
    "                break\n",
    "\n",
    "            # 날씨 정보\n",
    "            wdata = int(''.join(re.findall(\"\\d+\", month_data[i].find_element_by_css_selector(\"div.icon-container > svg\").get_attribute('src'))))\n",
    "            wdata_info = month_data[i].find_element_by_css_selector(\"div.icon-container > svg\").get_attribute('alt')\n",
    "            # 최고 기온\n",
    "            high = int(''.join(re.findall(\"\\d+\", month_data[i].find_element_by_css_selector(\"div.high\").text)))\n",
    "            # 최저 기온\n",
    "            low = int(''.join(re.findall(\"\\d+\", month_data[i].find_element_by_css_selector(\"div.low\").text)))\n",
    "\n",
    "            year.append(ydata)\n",
    "            month.append(mdata)\n",
    "            day.append(ddata)\n",
    "            weather.append(wdata)\n",
    "            weather_info.append(wdata_info)\n",
    "            high_temp.append(high)\n",
    "            low_temp.append(low)\n",
    "\n",
    "        weather_data = {'year':year, 'month':month, 'day':day, 'weather':weather, 'weather_info':weather_info, 'high_temp':high_temp, 'low_temp':low_temp}\n",
    "        n += 1\n",
    "        if n < 4:\n",
    "            try:\n",
    "                driver.find_element_by_css_selector(\"div.two-column-page-content > div.page-column-1 > div.content-module > div.more-cta-links > a.cta-link\").click()\n",
    "            except:\n",
    "                driver.refresh()\n",
    "                try:\n",
    "                    driver.find_element_by_css_selector(\"div.two-column-page-content > div.page-column-1 > div.content-module > div.more-cta-links > a.cta-link\").click()\n",
    "                except:\n",
    "                    pass\n",
    "\n",
    "        weather_df = pd.DataFrame(weather_data)\n",
    "        wdf = pd.concat([wdf,weather_df],ignore_index=True)\n",
    "        # print(wdf.tail())\n",
    "    # 날씨 데이터 저장\n",
    "    wdf.to_excel(r'/Users/iyj/Desktop/weather_data/{}날씨.xlsx'.format(area))\n",
    "    driver.quit()\n"
   ],
   "metadata": {
    "collapsed": false,
    "pycharm": {
     "name": "#%%\n"
    }
   }
  },
  {
   "cell_type": "code",
   "execution_count": 11,
   "outputs": [
    {
     "name": "stderr",
     "output_type": "stream",
     "text": [
      "/var/folders/gy/fn72qmd54376mrszg4b53k_m0000gn/T/ipykernel_2904/625569598.py:8: DeprecationWarning: executable_path has been deprecated, please pass in a Service object\n",
      "  driver = webdriver.Chrome(executable_path= r'/Users/iyj/Downloads/chromedriver')\n",
      "/var/folders/gy/fn72qmd54376mrszg4b53k_m0000gn/T/ipykernel_2904/625569598.py:15: DeprecationWarning: find_element_by_css_selector is deprecated. Please use find_element(by=By.CSS_SELECTOR, value=css_selector) instead\n",
      "  driver.find_element_by_css_selector(\"div.searchbar-content > form > input\").send_keys(area)\n",
      "/var/folders/gy/fn72qmd54376mrszg4b53k_m0000gn/T/ipykernel_2904/625569598.py:16: DeprecationWarning: find_element_by_css_selector is deprecated. Please use find_element(by=By.CSS_SELECTOR, value=css_selector) instead\n",
      "  driver.find_element_by_css_selector(\"div.searchbar-content > svg.icon-search.search-icon\").click()\n",
      "/var/folders/gy/fn72qmd54376mrszg4b53k_m0000gn/T/ipykernel_2904/625569598.py:21: DeprecationWarning: find_element_by_css_selector is deprecated. Please use find_element(by=By.CSS_SELECTOR, value=css_selector) instead\n",
      "  driver.find_element_by_css_selector(\"div.page-column-1 > div.content-module > div.locations-list.content-module > a:nth-child(1)\").click()\n",
      "/var/folders/gy/fn72qmd54376mrszg4b53k_m0000gn/T/ipykernel_2904/625569598.py:25: DeprecationWarning: find_element_by_css_selector is deprecated. Please use find_element(by=By.CSS_SELECTOR, value=css_selector) instead\n",
      "  driver.find_element_by_css_selector(\"div.page-column-1 > div.content-module > div.locations-list.content-module > a:nth-child(1)\").click()\n",
      "/var/folders/gy/fn72qmd54376mrszg4b53k_m0000gn/T/ipykernel_2904/625569598.py:32: DeprecationWarning: find_element_by_css_selector is deprecated. Please use find_element(by=By.CSS_SELECTOR, value=css_selector) instead\n",
      "  driver.find_element_by_css_selector(\"div.subnav-items > a[data-gaid='monthly']\").click()\n",
      "/var/folders/gy/fn72qmd54376mrszg4b53k_m0000gn/T/ipykernel_2904/625569598.py:35: DeprecationWarning: find_element_by_css_selector is deprecated. Please use find_element(by=By.CSS_SELECTOR, value=css_selector) instead\n",
      "  driver.find_element_by_css_selector(\"div.page-column-1 > div.content-module > div.locations-list.content-module > a:nth-child(1)\").click()\n",
      "/var/folders/gy/fn72qmd54376mrszg4b53k_m0000gn/T/ipykernel_2904/625569598.py:37: DeprecationWarning: find_element_by_css_selector is deprecated. Please use find_element(by=By.CSS_SELECTOR, value=css_selector) instead\n",
      "  driver.find_element_by_css_selector(\"div.subnav-items > a[data-gaid='monthly']\").click()\n",
      "/var/folders/gy/fn72qmd54376mrszg4b53k_m0000gn/T/ipykernel_2904/625569598.py:57: DeprecationWarning: find_elements_by_css_selector is deprecated. Please use find_elements(by=By.CSS_SELECTOR, value=css_selector) instead\n",
      "  ydata = int(''.join(re.findall(\"\\d+\",driver.find_elements_by_css_selector(\"div.monthly-dropdowns > div:nth-child(2) > div.map-dropdown-toggle > h2\")[0].text)))\n",
      "/var/folders/gy/fn72qmd54376mrszg4b53k_m0000gn/T/ipykernel_2904/625569598.py:68: DeprecationWarning: find_elements_by_css_selector is deprecated. Please use find_elements(by=By.CSS_SELECTOR, value=css_selector) instead\n",
      "  mdata = int(''.join(re.findall(\"\\d+\",driver.find_elements_by_css_selector(\"div.monthly-dropdowns > div:nth-child(1) > div.map-dropdown-toggle > h2\")[0].text)))\n",
      "/var/folders/gy/fn72qmd54376mrszg4b53k_m0000gn/T/ipykernel_2904/625569598.py:76: DeprecationWarning: find_elements_by_css_selector is deprecated. Please use find_elements(by=By.CSS_SELECTOR, value=css_selector) instead\n",
      "  month_data = driver.find_elements_by_css_selector(\"a.monthly-daypanel:not(.is-past)\")\n",
      "/Library/Frameworks/Python.framework/Versions/3.8/lib/python3.8/site-packages/selenium/webdriver/remote/webelement.py:484: UserWarning: find_element_by_css_selector is deprecated. Please use find_element(by=By.CSS_SELECTOR, value=css_selector) instead\n",
      "  warnings.warn(\"find_element_by_css_selector is deprecated. Please use find_element(by=By.CSS_SELECTOR, value=css_selector) instead\")\n",
      "/var/folders/gy/fn72qmd54376mrszg4b53k_m0000gn/T/ipykernel_2904/625569598.py:110: DeprecationWarning: find_element_by_css_selector is deprecated. Please use find_element(by=By.CSS_SELECTOR, value=css_selector) instead\n",
      "  driver.find_element_by_css_selector(\"div.two-column-page-content > div.page-column-1 > div.content-module > div.more-cta-links > a.cta-link\").click()\n",
      "/var/folders/gy/fn72qmd54376mrszg4b53k_m0000gn/T/ipykernel_2904/625569598.py:114: DeprecationWarning: find_element_by_css_selector is deprecated. Please use find_element(by=By.CSS_SELECTOR, value=css_selector) instead\n",
      "  driver.find_element_by_css_selector(\"div.two-column-page-content > div.page-column-1 > div.content-module > div.more-cta-links > a.cta-link\").click()\n"
     ]
    }
   ],
   "source": [
    "areas = ['서울','수원']\n",
    "for area in areas:\n",
    "    weatherfunc(area=area)"
   ],
   "metadata": {
    "collapsed": false,
    "pycharm": {
     "name": "#%%\n"
    }
   }
  },
  {
   "cell_type": "code",
   "execution_count": null,
   "outputs": [],
   "source": [],
   "metadata": {
    "collapsed": false,
    "pycharm": {
     "name": "#%%\n"
    }
   }
  }
 ],
 "metadata": {
  "kernelspec": {
   "display_name": "Python 3",
   "language": "python",
   "name": "python3"
  },
  "language_info": {
   "codemirror_mode": {
    "name": "ipython",
    "version": 2
   },
   "file_extension": ".py",
   "mimetype": "text/x-python",
   "name": "python",
   "nbconvert_exporter": "python",
   "pygments_lexer": "ipython2",
   "version": "2.7.6"
  }
 },
 "nbformat": 4,
 "nbformat_minor": 0
}